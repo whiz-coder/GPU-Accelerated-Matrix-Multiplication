{
 "cells": [
  {
   "cell_type": "code",
   "execution_count": 1,
   "metadata": {},
   "outputs": [
    {
     "name": "stdout",
     "output_type": "stream",
     "text": [
      "Requirement already satisfied: threadpoolctl in c:\\users\\vasek\\appdata\\local\\programs\\python\\python311\\lib\\site-packages (3.1.0)\n",
      "Note: you may need to restart the kernel to use updated packages.\n"
     ]
    }
   ],
   "source": [
    "%pip install threadpoolctl"
   ]
  },
  {
   "cell_type": "code",
   "execution_count": 2,
   "metadata": {},
   "outputs": [],
   "source": [
    "import pycuda.driver as cuda\n",
    "import pycuda.autoinit\n",
    "from pycuda.compiler import SourceModule\n",
    "\n",
    "mod = SourceModule(\"\"\"\n",
    "    __global__ void matmul(float *A, float *B, float *C, int m, int k, int n) {\n",
    "        int i = blockIdx.x * blockDim.x + threadIdx.x;\n",
    "        int j = blockIdx.y * blockDim.y + threadIdx.y;\n",
    "        if (i < m && j < n) {\n",
    "            float sum = 0;\n",
    "            for (int l = 0; l < k; l++) {\n",
    "                sum += A[i * k + l] * B[l * n + j];\n",
    "            }\n",
    "            C[i * n + j] = sum;\n",
    "        }\n",
    "    }\n",
    "\"\"\")\n",
    "\n",
    "def matmul_gpu(A, B):\n",
    "    m, k = A.shape\n",
    "    k, n = B.shape\n",
    "    C = np.zeros((m, n)).astype(np.float32)\n",
    "\n",
    "    block_size = (32, 32,1)\n",
    "    grid_size = ((m + block_size[0] - 1) // block_size[0], (n + block_size[1] - 1) // block_size[1])\n",
    "\n",
    "    func = mod.get_function(\"matmul\")\n",
    "    func(cuda.In(A), cuda.In(B), cuda.Out(C), np.int32(m), np.int32(k), np.int32(n), block=block_size, grid=grid_size)\n",
    "\n",
    "    return C"
   ]
  },
  {
   "cell_type": "code",
   "execution_count": 3,
   "metadata": {},
   "outputs": [],
   "source": [
    "def matmul_cpu_at_operator(A, B):\n",
    "    C = A @ B\n",
    "    return C"
   ]
  },
  {
   "cell_type": "code",
   "execution_count": 4,
   "metadata": {},
   "outputs": [],
   "source": [
    "def matmul_cpu_dot(A, B):\n",
    "    C = np.dot(A, B)\n",
    "    return C"
   ]
  },
  {
   "cell_type": "code",
   "execution_count": 5,
   "metadata": {},
   "outputs": [],
   "source": [
    "# set the number of threads for many common libraries\n",
    "from os import environ\n",
    "# use your number of physical cores\n"
   ]
  },
  {
   "cell_type": "code",
   "execution_count": 6,
   "metadata": {},
   "outputs": [
    {
     "name": "stdout",
     "output_type": "stream",
     "text": [
      "Zero matrix init: 0.238 s\n",
      "CPU time @ operator: 4.195 s\n",
      "CPU time np.dot: 4.224 s\n",
      "GPU time: 10.136 s\n"
     ]
    }
   ],
   "source": [
    "import time\n",
    "import numpy as np\n",
    "# Generate random matrices\n",
    "A = np.random.rand(10000,10000).astype(np.float32)\n",
    "B = np.random.rand(10000,10000).astype(np.float32)\n",
    "\n",
    "start_time = time.time()\n",
    "m, k = A.shape\n",
    "k, n = B.shape\n",
    "C = np.zeros((m, n)).astype(np.float32)\n",
    "end_time = time.time()\n",
    "zeros_time = end_time - start_time\n",
    "print(\"Zero matrix init: {:.3f} s\".format(end_time - start_time))\n",
    "\n",
    "# Time CPU-only implementation \n",
    "#start_time = time.time()\n",
    "#C_cpu_at_operator = matmul_cpu_at_operator(A, B)\n",
    "#end_time = time.time()\n",
    "#cpu2_time = end_time - start_time\n",
    "#print(\"CPU time np: {:.3f} s\".format(end_time - start_time))\n",
    "\n",
    "from threadpoolctl import threadpool_limits\n",
    "\n",
    "N_THREADS = 8\n",
    "with threadpool_limits(limits=N_THREADS, user_api='blas'):\n",
    "    # Time CPU-only implementation with @ symbol\n",
    "    start_time = time.time()\n",
    "    C_cpu_at = matmul_cpu_at_operator(A, B)\n",
    "    end_time = time.time()\n",
    "    cpu_at_time = end_time - start_time\n",
    "    print(\"CPU time @ operator: {:.3f} s\".format(end_time - start_time))\n",
    "\n",
    "with threadpool_limits(limits=N_THREADS, user_api='blas'):\n",
    "# Time CPU-only implementation with np.dot\n",
    "    start_time = time.time()\n",
    "    C_cpu_dot = matmul_cpu_dot(A, B)\n",
    "    end_time = time.time()\n",
    "    cpu_dot_time = end_time - start_time\n",
    "    print(\"CPU time np.dot: {:.3f} s\".format(end_time - start_time))\n",
    "\n",
    "# Time PyCUDA-accelerated implementation\n",
    "start_time = time.time()\n",
    "C_gpu = matmul_gpu(A, B)\n",
    "end_time = time.time()\n",
    "gpu_time = end_time - start_time\n",
    "print(\"GPU time: {:.3f} s\".format(end_time - start_time))\n",
    "\n",
    "# Check that results are the same\n",
    "assert np.allclose(C_cpu_at, C_gpu)\n",
    "assert np.allclose(C_cpu_dot, C_gpu)"
   ]
  },
  {
   "cell_type": "code",
   "execution_count": 9,
   "metadata": {},
   "outputs": [
    {
     "name": "stdout",
     "output_type": "stream",
     "text": [
      "CPU time: 4.651 s\n",
      "GPU time: 10.224 s\n"
     ]
    },
    {
     "data": {
      "image/png": "[encoded data removed]",
      "text/plain": [
       "<Figure size 640x480 with 1 Axes>"
      ]
     },
     "metadata": {},
     "output_type": "display_data"
    },
    {
     "name": "stdout",
     "output_type": "stream",
     "text": [
      "Time Difference: -5.573 s\n"
     ]
    }
   ],
   "source": [
    "import matplotlib.pyplot as plt\n",
    "\n",
    "# ...\n",
    "\n",
    "with threadpool_limits(limits=N_THREADS, user_api='blas'):\n",
    "    # Time CPU-only implementation\n",
    "    start_time = time.time()\n",
    "    C_cpu = matmul_cpu_at_operator(A, B)\n",
    "    end_time = time.time()\n",
    "    cpu_time = end_time - start_time\n",
    "    print(\"CPU time: {:.3f} s\".format(cpu_time))\n",
    "\n",
    "\n",
    "# Time PyCUDA-accelerated implementation\n",
    "start_time = time.time()\n",
    "C_gpu = matmul_gpu(A, B)\n",
    "end_time = time.time()\n",
    "gpu_time = end_time - start_time\n",
    "print(\"GPU time: {:.3f} s\".format(gpu_time))\n",
    "\n",
    "# Calculate the time difference\n",
    "time_diff = cpu_time - gpu_time\n",
    "\n",
    "# Plot the time difference\n",
    "labels = ['CPU', 'GPU']\n",
    "times = [cpu_time, gpu_time]\n",
    "colors = ['red', 'green']\n",
    "plt.bar(labels, times, color=colors)\n",
    "plt.xlabel('Implementation')\n",
    "plt.ylabel('Time (s)')\n",
    "plt.title('Running Time Comparison')\n",
    "\n",
    "# Add time labels to the plot\n",
    "for i in range(len(labels)):\n",
    "    plt.text(i, times[i], '{} ({:.3f}s)'.format(labels[i], times[i]), ha='center', va='bottom')\n",
    "\n",
    "plt.show()\n",
    "\n",
    "# Print the time difference\n",
    "print(\"Time Difference: {:.3f} s\".format(time_diff))\n"
   ]
  },
  {
   "cell_type": "code",
   "execution_count": null,
   "metadata": {},
   "outputs": [],
   "source": []
  }
 ],
 "metadata": {
  "kernelspec": {
   "display_name": "Python 3",
   "language": "python",
   "name": "python3"
  },
  "language_info": {
   "codemirror_mode": {
    "name": "ipython",
    "version": 3
   },
   "file_extension": ".py",
   "mimetype": "text/x-python",
   "name": "python",
   "nbconvert_exporter": "python",
   "pygments_lexer": "ipython3",
   "version": "3.11.3"
  },
  "orig_nbformat": 4
 },
 "nbformat": 4,
 "nbformat_minor": 2
}
